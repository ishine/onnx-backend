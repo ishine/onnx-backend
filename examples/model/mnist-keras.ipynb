{
 "cells": [
  {
   "cell_type": "markdown",
   "metadata": {},
   "source": [
    "# 导入库"
   ]
  },
  {
   "cell_type": "code",
   "execution_count": 1,
   "metadata": {},
   "outputs": [],
   "source": [
    "#coding:utf-8\n",
    "from tensorflow.examples.tutorials.mnist import input_data\n",
    "\n",
    "import numpy as np\n",
    "np.set_printoptions(suppress=True)\n",
    "\n",
    "import matplotlib.pyplot as plt\n",
    "%matplotlib inline"
   ]
  },
  {
   "cell_type": "markdown",
   "metadata": {},
   "source": [
    "# 导入数据集"
   ]
  },
  {
   "cell_type": "code",
   "execution_count": 3,
   "metadata": {},
   "outputs": [
    {
     "name": "stderr",
     "output_type": "stream",
     "text": [
      "W0829 10:37:44.431263 12720 deprecation.py:323] From d:\\anaconda3\\envs\\tensorflow\\lib\\site-packages\\tensorflow\\contrib\\learn\\python\\learn\\datasets\\mnist.py:262: extract_images (from tensorflow.contrib.learn.python.learn.datasets.mnist) is deprecated and will be removed in a future version.\n",
      "Instructions for updating:\n",
      "Please use tf.data to implement this functionality.\n"
     ]
    },
    {
     "name": "stdout",
     "output_type": "stream",
     "text": [
      "Extracting MNIST_data/train-images-idx3-ubyte.gz\n"
     ]
    },
    {
     "name": "stderr",
     "output_type": "stream",
     "text": [
      "W0829 10:37:44.709223 12720 deprecation.py:323] From d:\\anaconda3\\envs\\tensorflow\\lib\\site-packages\\tensorflow\\contrib\\learn\\python\\learn\\datasets\\mnist.py:267: extract_labels (from tensorflow.contrib.learn.python.learn.datasets.mnist) is deprecated and will be removed in a future version.\n",
      "Instructions for updating:\n",
      "Please use tf.data to implement this functionality.\n",
      "W0829 10:37:44.722234 12720 deprecation.py:323] From d:\\anaconda3\\envs\\tensorflow\\lib\\site-packages\\tensorflow\\contrib\\learn\\python\\learn\\datasets\\mnist.py:110: dense_to_one_hot (from tensorflow.contrib.learn.python.learn.datasets.mnist) is deprecated and will be removed in a future version.\n",
      "Instructions for updating:\n",
      "Please use tf.one_hot on tensors.\n",
      "W0829 10:37:44.785238 12720 deprecation.py:323] From d:\\anaconda3\\envs\\tensorflow\\lib\\site-packages\\tensorflow\\contrib\\learn\\python\\learn\\datasets\\mnist.py:290: DataSet.__init__ (from tensorflow.contrib.learn.python.learn.datasets.mnist) is deprecated and will be removed in a future version.\n",
      "Instructions for updating:\n",
      "Please use alternatives such as official/mnist/dataset.py from tensorflow/models.\n"
     ]
    },
    {
     "name": "stdout",
     "output_type": "stream",
     "text": [
      "Extracting MNIST_data/train-labels-idx1-ubyte.gz\n",
      "Extracting MNIST_data/t10k-images-idx3-ubyte.gz\n",
      "Extracting MNIST_data/t10k-labels-idx1-ubyte.gz\n"
     ]
    }
   ],
   "source": [
    "mnist = input_data.read_data_sets(\"MNIST_data/\", one_hot=True) #MNIST数据输入"
   ]
  },
  {
   "cell_type": "code",
   "execution_count": 4,
   "metadata": {},
   "outputs": [],
   "source": [
    "X_train = mnist.train.images\n",
    "y_train = mnist.train.labels\n",
    "X_test = mnist.test.images\n",
    "y_test = mnist.test.labels\n",
    "\n",
    "# 输入图像大小是 28x28 大小\n",
    "X_train = X_train.reshape([-1, 28, 28, 1])\n",
    "X_test = X_test.reshape([-1, 28, 28, 1])"
   ]
  },
  {
   "cell_type": "code",
   "execution_count": 8,
   "metadata": {},
   "outputs": [
    {
     "data": {
      "text/plain": [
       "<matplotlib.image.AxesImage at 0x2c909a6e470>"
      ]
     },
     "execution_count": 8,
     "metadata": {},
     "output_type": "execute_result"
    },
    {
     "data": {
      "image/png": "[encoded data removed]",
      "text/plain": [
       "<Figure size 432x288 with 1 Axes>"
      ]
     },
     "metadata": {
      "needs_background": "light"
     },
     "output_type": "display_data"
    }
   ],
   "source": [
    "plt.imshow(X_train[0].reshape((28, 28)), cmap='gray')"
   ]
  },
  {
   "cell_type": "code",
   "execution_count": 9,
   "metadata": {},
   "outputs": [
    {
     "data": {
      "text/plain": [
       "<matplotlib.image.AxesImage at 0x2c909ac85f8>"
      ]
     },
     "execution_count": 9,
     "metadata": {},
     "output_type": "execute_result"
    },
    {
     "data": {
      "image/png": "[encoded data removed]",
      "text/plain": [
       "<Figure size 432x288 with 1 Axes>"
      ]
     },
     "metadata": {
      "needs_background": "light"
     },
     "output_type": "display_data"
    }
   ],
   "source": [
    "plt.imshow(X_train[1].reshape((28, 28)), cmap='gray')"
   ]
  },
  {
   "cell_type": "markdown",
   "metadata": {},
   "source": [
    "# 构建模型"
   ]
  },
  {
   "cell_type": "code",
   "execution_count": 14,
   "metadata": {},
   "outputs": [
    {
     "name": "stderr",
     "output_type": "stream",
     "text": [
      "Using TensorFlow backend.\n"
     ]
    }
   ],
   "source": [
    "# Importing the Keras libraries and packages\n",
    "# Importing the Keras libraries and packages\n",
    "from keras.models import Sequential\n",
    "from keras.layers import Dense\n",
    "from keras.layers import Conv2D\n",
    "from keras.layers import MaxPooling2D\n",
    "from keras.layers import Dropout\n",
    "from keras.layers import Flatten"
   ]
  },
  {
   "cell_type": "code",
   "execution_count": 25,
   "metadata": {},
   "outputs": [],
   "source": [
    "def build_classifier():\n",
    "    # Initialising the CNN\n",
    "    classifier = Sequential()\n",
    "\n",
    "    # Adding the first CNN layer and some Dropout regularisation\n",
    "    classifier.add(Conv2D(filters = 2, kernel_size = 3, strides = 1, padding = \"SAME\", activation = \"relu\", input_shape = (28, 28, 1)))\n",
    "    classifier.add(MaxPooling2D(pool_size=(2, 2),  padding='SAME'))\n",
    "    classifier.add(Dropout(0.3))\n",
    "\n",
    "    classifier.add(Conv2D(filters = 2, kernel_size = 3, strides = 1, padding = \"SAME\", activation = \"relu\"))\n",
    "    classifier.add(MaxPooling2D(pool_size=(2, 2),  padding='SAME'))\n",
    "    classifier.add(Dropout(0.3))\n",
    "\n",
    "    classifier.add(Flatten())\n",
    "    classifier.add(Dense(kernel_initializer=\"uniform\", units = 4))\n",
    "\n",
    "    # Adding the output layer\n",
    "    classifier.add(Dense(kernel_initializer=\"uniform\", units = 10, activation=\"softmax\"))\n",
    "    classifier.compile(optimizer = 'adam', loss = 'categorical_crossentropy', metrics=['accuracy'])\n",
    "\n",
    "    return classifier\n"
   ]
  },
  {
   "cell_type": "code",
   "execution_count": 26,
   "metadata": {},
   "outputs": [
    {
     "name": "stdout",
     "output_type": "stream",
     "text": [
      "_________________________________________________________________\n",
      "Layer (type)                 Output Shape              Param #   \n",
      "=================================================================\n",
      "conv2d_3 (Conv2D)            (None, 28, 28, 2)         20        \n",
      "_________________________________________________________________\n",
      "max_pooling2d_3 (MaxPooling2 (None, 14, 14, 2)         0         \n",
      "_________________________________________________________________\n",
      "dropout_3 (Dropout)          (None, 14, 14, 2)         0         \n",
      "_________________________________________________________________\n",
      "conv2d_4 (Conv2D)            (None, 14, 14, 2)         38        \n",
      "_________________________________________________________________\n",
      "max_pooling2d_4 (MaxPooling2 (None, 7, 7, 2)           0         \n",
      "_________________________________________________________________\n",
      "dropout_4 (Dropout)          (None, 7, 7, 2)           0         \n",
      "_________________________________________________________________\n",
      "flatten_2 (Flatten)          (None, 98)                0         \n",
      "_________________________________________________________________\n",
      "dense_3 (Dense)              (None, 4)                 396       \n",
      "_________________________________________________________________\n",
      "dense_4 (Dense)              (None, 10)                50        \n",
      "=================================================================\n",
      "Total params: 504\n",
      "Trainable params: 504\n",
      "Non-trainable params: 0\n",
      "_________________________________________________________________\n"
     ]
    }
   ],
   "source": [
    "classifier = build_classifier()\n",
    "classifier.summary()"
   ]
  },
  {
   "cell_type": "markdown",
   "metadata": {},
   "source": [
    "# 训练模型"
   ]
  },
  {
   "cell_type": "code",
   "execution_count": 27,
   "metadata": {},
   "outputs": [],
   "source": [
    "from keras.callbacks import ModelCheckpoint\n",
    "checkpointer = ModelCheckpoint(filepath='minions.hdf5', verbose=1, save_best_only=True, monitor='val_loss',mode='min')"
   ]
  },
  {
   "cell_type": "code",
   "execution_count": 28,
   "metadata": {},
   "outputs": [
    {
     "name": "stdout",
     "output_type": "stream",
     "text": [
      "Train on 55000 samples, validate on 10000 samples\n",
      "Epoch 1/50\n",
      "55000/55000 [==============================] - 10s 178us/step - loss: 1.3555 - acc: 0.5203 - val_loss: 0.8780 - val_acc: 0.7317\n",
      "\n",
      "Epoch 00001: val_loss improved from inf to 0.87800, saving model to minions.hdf5\n",
      "Epoch 2/50\n",
      "55000/55000 [==============================] - 9s 171us/step - loss: 1.0732 - acc: 0.6216 - val_loss: 0.8069 - val_acc: 0.7405\n",
      "\n",
      "Epoch 00002: val_loss improved from 0.87800 to 0.80690, saving model to minions.hdf5\n",
      "Epoch 3/50\n",
      "55000/55000 [==============================] - 9s 172us/step - loss: 1.0243 - acc: 0.6383 - val_loss: 0.7807 - val_acc: 0.7610\n",
      "\n",
      "Epoch 00003: val_loss improved from 0.80690 to 0.78067, saving model to minions.hdf5\n",
      "Epoch 4/50\n",
      "55000/55000 [==============================] - 9s 172us/step - loss: 0.9878 - acc: 0.6533 - val_loss: 0.7382 - val_acc: 0.7770\n",
      "\n",
      "Epoch 00004: val_loss improved from 0.78067 to 0.73821, saving model to minions.hdf5\n",
      "Epoch 5/50\n",
      "55000/55000 [==============================] - 9s 169us/step - loss: 0.9613 - acc: 0.6623 - val_loss: 0.7169 - val_acc: 0.7922\n",
      "\n",
      "Epoch 00005: val_loss improved from 0.73821 to 0.71689, saving model to minions.hdf5\n",
      "Epoch 6/50\n",
      "55000/55000 [==============================] - 10s 173us/step - loss: 0.9434 - acc: 0.6650 - val_loss: 0.6947 - val_acc: 0.7987\n",
      "\n",
      "Epoch 00006: val_loss improved from 0.71689 to 0.69465, saving model to minions.hdf5\n",
      "Epoch 7/50\n",
      "55000/55000 [==============================] - 9s 171us/step - loss: 0.9078 - acc: 0.6775 - val_loss: 0.6258 - val_acc: 0.8173\n",
      "\n",
      "Epoch 00007: val_loss improved from 0.69465 to 0.62578, saving model to minions.hdf5\n",
      "Epoch 8/50\n",
      "55000/55000 [==============================] - 9s 169us/step - loss: 0.8136 - acc: 0.7133 - val_loss: 0.5246 - val_acc: 0.8476\n",
      "\n",
      "Epoch 00008: val_loss improved from 0.62578 to 0.52461, saving model to minions.hdf5\n",
      "Epoch 9/50\n",
      "55000/55000 [==============================] - 10s 174us/step - loss: 0.7273 - acc: 0.7461 - val_loss: 0.4556 - val_acc: 0.8652\n",
      "\n",
      "Epoch 00009: val_loss improved from 0.52461 to 0.45560, saving model to minions.hdf5\n",
      "Epoch 10/50\n",
      "55000/55000 [==============================] - 10s 174us/step - loss: 0.6914 - acc: 0.7601 - val_loss: 0.4300 - val_acc: 0.8750\n",
      "\n",
      "Epoch 00010: val_loss improved from 0.45560 to 0.43003, saving model to minions.hdf5\n",
      "Epoch 11/50\n",
      "55000/55000 [==============================] - 10s 177us/step - loss: 0.6735 - acc: 0.7685 - val_loss: 0.4067 - val_acc: 0.8877\n",
      "\n",
      "Epoch 00011: val_loss improved from 0.43003 to 0.40667, saving model to minions.hdf5\n",
      "Epoch 12/50\n",
      "55000/55000 [==============================] - 9s 168us/step - loss: 0.6610 - acc: 0.7749 - val_loss: 0.4092 - val_acc: 0.8806\n",
      "\n",
      "Epoch 00012: val_loss did not improve from 0.40667\n",
      "Epoch 13/50\n",
      "55000/55000 [==============================] - 9s 166us/step - loss: 0.6581 - acc: 0.7785 - val_loss: 0.3992 - val_acc: 0.8874\n",
      "\n",
      "Epoch 00013: val_loss improved from 0.40667 to 0.39921, saving model to minions.hdf5\n",
      "Epoch 14/50\n",
      "55000/55000 [==============================] - 9s 168us/step - loss: 0.6510 - acc: 0.7780 - val_loss: 0.3958 - val_acc: 0.8838\n",
      "\n",
      "Epoch 00014: val_loss improved from 0.39921 to 0.39576, saving model to minions.hdf5\n",
      "Epoch 15/50\n",
      "55000/55000 [==============================] - 9s 170us/step - loss: 0.6450 - acc: 0.7811 - val_loss: 0.4030 - val_acc: 0.8782\n",
      "\n",
      "Epoch 00015: val_loss did not improve from 0.39576\n",
      "Epoch 16/50\n",
      "55000/55000 [==============================] - 9s 169us/step - loss: 0.6391 - acc: 0.7837 - val_loss: 0.3956 - val_acc: 0.8850\n",
      "\n",
      "Epoch 00016: val_loss improved from 0.39576 to 0.39564, saving model to minions.hdf5\n",
      "Epoch 17/50\n",
      "55000/55000 [==============================] - 9s 167us/step - loss: 0.6345 - acc: 0.7848 - val_loss: 0.3838 - val_acc: 0.8887\n",
      "\n",
      "Epoch 00017: val_loss improved from 0.39564 to 0.38377, saving model to minions.hdf5\n",
      "Epoch 18/50\n",
      "55000/55000 [==============================] - 9s 169us/step - loss: 0.6337 - acc: 0.7848 - val_loss: 0.3913 - val_acc: 0.8818\n",
      "\n",
      "Epoch 00018: val_loss did not improve from 0.38377\n",
      "Epoch 19/50\n",
      "55000/55000 [==============================] - 9s 168us/step - loss: 0.6338 - acc: 0.7870 - val_loss: 0.3845 - val_acc: 0.8875\n",
      "\n",
      "Epoch 00019: val_loss did not improve from 0.38377\n",
      "Epoch 20/50\n",
      "55000/55000 [==============================] - 9s 168us/step - loss: 0.6345 - acc: 0.7847 - val_loss: 0.3817 - val_acc: 0.8917\n",
      "\n",
      "Epoch 00020: val_loss improved from 0.38377 to 0.38166, saving model to minions.hdf5\n",
      "Epoch 21/50\n",
      "55000/55000 [==============================] - 9s 171us/step - loss: 0.6208 - acc: 0.7914 - val_loss: 0.3702 - val_acc: 0.8914\n",
      "\n",
      "Epoch 00021: val_loss improved from 0.38166 to 0.37016, saving model to minions.hdf5\n",
      "Epoch 22/50\n",
      "55000/55000 [==============================] - 10s 175us/step - loss: 0.6217 - acc: 0.7905 - val_loss: 0.3771 - val_acc: 0.8924\n",
      "\n",
      "Epoch 00022: val_loss did not improve from 0.37016\n",
      "Epoch 23/50\n",
      "55000/55000 [==============================] - 10s 175us/step - loss: 0.6203 - acc: 0.7882 - val_loss: 0.3732 - val_acc: 0.8911\n",
      "\n",
      "Epoch 00023: val_loss did not improve from 0.37016\n",
      "Epoch 24/50\n",
      "55000/55000 [==============================] - 9s 171us/step - loss: 0.6259 - acc: 0.7895 - val_loss: 0.3805 - val_acc: 0.8883\n",
      "\n",
      "Epoch 00024: val_loss did not improve from 0.37016\n",
      "Epoch 25/50\n",
      "55000/55000 [==============================] - 9s 168us/step - loss: 0.6204 - acc: 0.7907 - val_loss: 0.3785 - val_acc: 0.8908\n",
      "\n",
      "Epoch 00025: val_loss did not improve from 0.37016\n",
      "Epoch 26/50\n",
      "55000/55000 [==============================] - 9s 169us/step - loss: 0.6194 - acc: 0.7916 - val_loss: 0.3764 - val_acc: 0.8924\n",
      "\n",
      "Epoch 00026: val_loss did not improve from 0.37016\n",
      "Epoch 27/50\n",
      "55000/55000 [==============================] - 9s 165us/step - loss: 0.6291 - acc: 0.7876 - val_loss: 0.3873 - val_acc: 0.8820\n",
      "\n",
      "Epoch 00027: val_loss did not improve from 0.37016\n",
      "Epoch 28/50\n",
      "55000/55000 [==============================] - 10s 175us/step - loss: 0.6165 - acc: 0.7912 - val_loss: 0.3765 - val_acc: 0.8919\n",
      "\n",
      "Epoch 00028: val_loss did not improve from 0.37016\n",
      "Epoch 29/50\n",
      "55000/55000 [==============================] - 10s 178us/step - loss: 0.6232 - acc: 0.7895 - val_loss: 0.3781 - val_acc: 0.8919\n",
      "\n",
      "Epoch 00029: val_loss did not improve from 0.37016\n",
      "Epoch 30/50\n",
      "55000/55000 [==============================] - 10s 173us/step - loss: 0.6226 - acc: 0.7904 - val_loss: 0.3909 - val_acc: 0.8823\n",
      "\n",
      "Epoch 00030: val_loss did not improve from 0.37016\n",
      "Epoch 31/50\n",
      "55000/55000 [==============================] - 10s 177us/step - loss: 0.6230 - acc: 0.7898 - val_loss: 0.3971 - val_acc: 0.8787\n",
      "\n",
      "Epoch 00031: val_loss did not improve from 0.37016\n",
      "Epoch 32/50\n",
      "55000/55000 [==============================] - 9s 168us/step - loss: 0.6197 - acc: 0.7899 - val_loss: 0.3747 - val_acc: 0.8887\n",
      "\n",
      "Epoch 00032: val_loss did not improve from 0.37016\n",
      "Epoch 33/50\n",
      "55000/55000 [==============================] - 9s 171us/step - loss: 0.6168 - acc: 0.7918 - val_loss: 0.3770 - val_acc: 0.8871\n",
      "\n",
      "Epoch 00033: val_loss did not improve from 0.37016\n",
      "Epoch 34/50\n",
      "55000/55000 [==============================] - 9s 164us/step - loss: 0.6146 - acc: 0.7914 - val_loss: 0.3842 - val_acc: 0.8843\n",
      "\n",
      "Epoch 00034: val_loss did not improve from 0.37016\n",
      "Epoch 35/50\n",
      "55000/55000 [==============================] - 9s 169us/step - loss: 0.6208 - acc: 0.7908 - val_loss: 0.3780 - val_acc: 0.8909\n",
      "\n",
      "Epoch 00035: val_loss did not improve from 0.37016\n",
      "Epoch 36/50\n",
      "55000/55000 [==============================] - 9s 164us/step - loss: 0.6172 - acc: 0.7935 - val_loss: 0.3705 - val_acc: 0.8917\n",
      "\n",
      "Epoch 00036: val_loss did not improve from 0.37016\n",
      "Epoch 37/50\n",
      "55000/55000 [==============================] - 9s 172us/step - loss: 0.6171 - acc: 0.7930 - val_loss: 0.3812 - val_acc: 0.8872\n",
      "\n",
      "Epoch 00037: val_loss did not improve from 0.37016\n",
      "Epoch 38/50\n",
      "55000/55000 [==============================] - 9s 169us/step - loss: 0.6223 - acc: 0.7928 - val_loss: 0.3910 - val_acc: 0.8887\n",
      "\n",
      "Epoch 00038: val_loss did not improve from 0.37016\n",
      "Epoch 39/50\n",
      "55000/55000 [==============================] - 10s 175us/step - loss: 0.6133 - acc: 0.7920 - val_loss: 0.3759 - val_acc: 0.8900\n",
      "\n",
      "Epoch 00039: val_loss did not improve from 0.37016\n",
      "Epoch 40/50\n",
      "55000/55000 [==============================] - 10s 177us/step - loss: 0.6144 - acc: 0.7934 - val_loss: 0.3715 - val_acc: 0.8932\n"
     ]
    },
    {
     "name": "stdout",
     "output_type": "stream",
     "text": [
      "\n",
      "Epoch 00040: val_loss did not improve from 0.37016\n",
      "Epoch 41/50\n",
      "55000/55000 [==============================] - 9s 166us/step - loss: 0.6202 - acc: 0.7912 - val_loss: 0.3847 - val_acc: 0.8881\n",
      "\n",
      "Epoch 00041: val_loss did not improve from 0.37016\n",
      "Epoch 42/50\n",
      "55000/55000 [==============================] - 9s 170us/step - loss: 0.6162 - acc: 0.7936 - val_loss: 0.3791 - val_acc: 0.8903\n",
      "\n",
      "Epoch 00042: val_loss did not improve from 0.37016\n",
      "Epoch 43/50\n",
      "55000/55000 [==============================] - 10s 174us/step - loss: 0.6174 - acc: 0.7920 - val_loss: 0.3777 - val_acc: 0.8899\n",
      "\n",
      "Epoch 00043: val_loss did not improve from 0.37016\n",
      "Epoch 44/50\n",
      "55000/55000 [==============================] - 9s 173us/step - loss: 0.6199 - acc: 0.7920 - val_loss: 0.3805 - val_acc: 0.8934\n",
      "\n",
      "Epoch 00044: val_loss did not improve from 0.37016\n",
      "Epoch 45/50\n",
      "55000/55000 [==============================] - 9s 166us/step - loss: 0.6163 - acc: 0.7916 - val_loss: 0.3764 - val_acc: 0.8931\n",
      "\n",
      "Epoch 00045: val_loss did not improve from 0.37016\n",
      "Epoch 46/50\n",
      "55000/55000 [==============================] - 10s 174us/step - loss: 0.6176 - acc: 0.7918 - val_loss: 0.3700 - val_acc: 0.8965\n",
      "\n",
      "Epoch 00046: val_loss improved from 0.37016 to 0.37002, saving model to minions.hdf5\n",
      "Epoch 47/50\n",
      "55000/55000 [==============================] - 10s 182us/step - loss: 0.6180 - acc: 0.7921 - val_loss: 0.3797 - val_acc: 0.8936\n",
      "\n",
      "Epoch 00047: val_loss did not improve from 0.37002\n",
      "Epoch 48/50\n",
      "55000/55000 [==============================] - 10s 183us/step - loss: 0.6133 - acc: 0.7931 - val_loss: 0.3770 - val_acc: 0.8926\n",
      "\n",
      "Epoch 00048: val_loss did not improve from 0.37002\n",
      "Epoch 49/50\n",
      "55000/55000 [==============================] - 11s 196us/step - loss: 0.6175 - acc: 0.7912 - val_loss: 0.3755 - val_acc: 0.8888\n",
      "\n",
      "Epoch 00049: val_loss did not improve from 0.37002\n",
      "Epoch 50/50\n",
      "55000/55000 [==============================] - 10s 174us/step - loss: 0.6087 - acc: 0.7945 - val_loss: 0.3695 - val_acc: 0.8977\n",
      "\n",
      "Epoch 00050: val_loss improved from 0.37002 to 0.36951, saving model to minions.hdf5\n"
     ]
    }
   ],
   "source": [
    "history = classifier.fit(X_train, y_train, epochs = 50, batch_size = 50, validation_data=(X_test, y_test), callbacks=[checkpointer])"
   ]
  },
  {
   "cell_type": "markdown",
   "metadata": {},
   "source": [
    "# 查看训练过程"
   ]
  },
  {
   "cell_type": "code",
   "execution_count": 19,
   "metadata": {},
   "outputs": [],
   "source": [
    "def plot_history(history) :\n",
    "    SMALL_SIZE = 20\n",
    "    MEDIUM_SIZE = 22\n",
    "    BIGGER_SIZE = 24\n",
    "\n",
    "    plt.rc('font', size=SMALL_SIZE)          # controls default text sizes\n",
    "    plt.rc('axes', titlesize=SMALL_SIZE)     # fontsize of the axes title\n",
    "    plt.rc('axes', labelsize=MEDIUM_SIZE)    # fontsize of the x and y labels\n",
    "    plt.rc('xtick', labelsize=SMALL_SIZE)    # fontsize of the tick labels\n",
    "    plt.rc('ytick', labelsize=SMALL_SIZE)    # fontsize of the tick labels\n",
    "    plt.rc('legend', fontsize=SMALL_SIZE)    # legend fontsize\n",
    "    plt.rc('figure', titlesize=BIGGER_SIZE)  # fontsize of the figure title\n",
    "\n",
    "    fig = plt.figure()\n",
    "    fig.set_size_inches(15,10)\n",
    "    plt.plot(history['loss'])\n",
    "    plt.plot(history['val_loss'])\n",
    "    plt.title('Model Loss')\n",
    "    plt.xlabel('epoch')\n",
    "    plt.ylabel('loss')\n",
    "    plt.legend(['train', 'test'],loc='upper left')\n",
    "    plt.show()"
   ]
  },
  {
   "cell_type": "code",
   "execution_count": 29,
   "metadata": {},
   "outputs": [
    {
     "data": {
      "image/png": "[encoded data removed]",
      "text/plain": [
       "<Figure size 1080x720 with 1 Axes>"
      ]
     },
     "metadata": {
      "needs_background": "light"
     },
     "output_type": "display_data"
    }
   ],
   "source": [
    "plot_history(history.history)"
   ]
  },
  {
   "cell_type": "markdown",
   "metadata": {},
   "source": [
    "# 保存模型"
   ]
  },
  {
   "cell_type": "markdown",
   "metadata": {},
   "source": [
    "保存为 Keras 模型"
   ]
  },
  {
   "cell_type": "code",
   "execution_count": 30,
   "metadata": {},
   "outputs": [],
   "source": [
    "classifier.save(\"mnist.h5\")"
   ]
  },
  {
   "cell_type": "markdown",
   "metadata": {},
   "source": [
    "保存为 onnx 模型"
   ]
  },
  {
   "cell_type": "code",
   "execution_count": 31,
   "metadata": {},
   "outputs": [],
   "source": [
    "import onnx\n",
    "import keras2onnx"
   ]
  },
  {
   "cell_type": "code",
   "execution_count": 32,
   "metadata": {},
   "outputs": [],
   "source": [
    "onnx_model = keras2onnx.convert_keras(classifier, 'mnist')\n",
    "onnx.save_model(onnx_model, 'mnist.onnx')"
   ]
  },
  {
   "cell_type": "markdown",
   "metadata": {},
   "source": [
    "# 加载训练好的模型"
   ]
  },
  {
   "cell_type": "code",
   "execution_count": 33,
   "metadata": {},
   "outputs": [],
   "source": [
    "import onnxruntime as rt\n",
    "sess = rt.InferenceSession(\"mnist.onnx\")"
   ]
  },
  {
   "cell_type": "code",
   "execution_count": 34,
   "metadata": {},
   "outputs": [],
   "source": [
    "input_name = sess.get_inputs()[0].name\n",
    "output_name = sess.get_outputs()[0].name"
   ]
  },
  {
   "cell_type": "code",
   "execution_count": 36,
   "metadata": {},
   "outputs": [],
   "source": [
    "res = sess.run([output_name], {input_name: X_test})\n",
    "res = np.array(res)"
   ]
  },
  {
   "cell_type": "code",
   "execution_count": 44,
   "metadata": {},
   "outputs": [
    {
     "name": "stdout",
     "output_type": "stream",
     "text": [
      "[0.00000001 0.00000004 0.0000312  0.00062566 0.         0.0000002\n",
      " 0.         0.99688894 0.00009035 0.00236361]\n"
     ]
    },
    {
     "data": {
      "image/png": "[encoded data removed]",
      "text/plain": [
       "<Figure size 432x288 with 1 Axes>"
      ]
     },
     "metadata": {
      "needs_background": "light"
     },
     "output_type": "display_data"
    }
   ],
   "source": [
    "plt.imshow(X_test[0].reshape((28, 28)), cmap='gray')\n",
    "print(res[0][0])"
   ]
  },
  {
   "cell_type": "code",
   "execution_count": null,
   "metadata": {},
   "outputs": [],
   "source": []
  }
 ],
 "metadata": {
  "kernelspec": {
   "display_name": "Python 3",
   "language": "python",
   "name": "python3"
  },
  "language_info": {
   "codemirror_mode": {
    "name": "ipython",
    "version": 3
   },
   "file_extension": ".py",
   "mimetype": "text/x-python",
   "name": "python",
   "nbconvert_exporter": "python",
   "pygments_lexer": "ipython3",
   "version": "3.7.3"
  }
 },
 "nbformat": 4,
 "nbformat_minor": 2
}
